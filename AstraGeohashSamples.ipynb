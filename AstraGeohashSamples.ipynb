{
  "nbformat": 4,
  "nbformat_minor": 0,
  "metadata": {
    "colab": {
      "name": "AstraGeohashSamples.ipynb",
      "provenance": [],
      "collapsed_sections": [],
      "authorship_tag": "ABX9TyPBqHE3M1b/G78ik8c279A4",
      "include_colab_link": true
    },
    "kernelspec": {
      "name": "python3",
      "display_name": "Python 3"
    },
    "language_info": {
      "name": "python"
    }
  },
  "cells": [
    {
      "cell_type": "markdown",
      "metadata": {
        "id": "view-in-github",
        "colab_type": "text"
      },
      "source": [
        "<a href=\"https://colab.research.google.com/github/stinkymatt/pub/blob/master/AstraGeohashSamples.ipynb\" target=\"_parent\"><img src=\"https://colab.research.google.com/assets/colab-badge.svg\" alt=\"Open In Colab\"/></a>"
      ]
    },
    {
      "cell_type": "code",
      "source": [
        "!pip install google-cloud-secret-manager\n",
        "!pip install astrapy\n",
        "!pip install cassandra-driver"
      ],
      "metadata": {
        "id": "OqquDTfLRoqE"
      },
      "execution_count": null,
      "outputs": []
    },
    {
      "cell_type": "code",
      "execution_count": null,
      "metadata": {
        "id": "SE55RdMgQKrJ"
      },
      "outputs": [],
      "source": [
        "#Credentials for a Read-only user\n",
        "auth_id = \"\" #@param {type: \"string\"}\n",
        "auth_secret = \"\" #@param {type:\"string\"}\n",
        "auth_token = \"\" #@param {type: \"string\"}\n",
        "\n",
        "ASTRA_DB_ID='c2902cac-68fa-4d5a-91dd-bc8163619c98'\n",
        "ASTRA_DB_REGION='us-east4'\n",
        "ASTRA_DB_KEYSPACE='geodemos'\n",
        "\n",
        "from astrapy.client import create_astra_client\n",
        "astra_client = create_astra_client(astra_database_id=ASTRA_DB_ID,\n",
        "                                   astra_database_region=ASTRA_DB_REGION,\n",
        "                                   astra_application_token=auth_token)\n",
        "zipUrl = astra_client.ops.get_secure_bundle(database=ASTRA_DB_ID)\n",
        "\n",
        "import urllib\n",
        "urllib.request.urlretrieve(zipUrl['downloadURL'], 'scb.zip')"
      ]
    },
    {
      "cell_type": "code",
      "source": [
        "from cassandra.cluster import Cluster\n",
        "from cassandra.auth import PlainTextAuthProvider\n",
        "\n",
        "def connect_to_astra():\n",
        "  cloud_config= {'secure_connect_bundle':'scb.zip'}\n",
        "  auth_prov = PlainTextAuthProvider(auth_id, auth_secret)\n",
        "  cluster = Cluster(cloud=cloud_config, auth_provider=auth_prov)\n",
        "  return cluster.connect()\n",
        "\n",
        "#Connect to Astra and query from geodemos.my_mapdata table\n",
        "#There are string matching indexes on geo_hash3, geo_hash4, geo_hash5 and geo_hash10\n",
        "#The general idea is that you could move easily between the 3/4/5 \"zoom levels\"\n",
        "#9xj3t is a crowded 5-character geo_hash to try out. \n",
        "#There are 250,000 items in this DB\n",
        "session = connect_to_astra()\n",
        "\n",
        "rows = session.execute(\"select md_pk, md_name, md_lat, md_lng, geo_hash10 from geodemos.my_mapdata where geo_hash5='9xj3t'\")\n",
        "#rows = session.execute(\"select md_pk, md_name, md_lat, md_lng, geo_hash10 from geodemos.my_mapdata where geo_hash4='9xj3'\")\n",
        "#rows = session.execute(\"select md_pk, md_name, md_lat, md_lng, geo_hash10 from geodemos.my_mapdata where geo_hash3='9xj'\")\n",
        "rows.all()\n",
        "\n",
        "#Just for pretty printing below\n",
        "#import pandas as pd\n",
        "#from google.colab import data_table\n",
        "#data_table.enable_dataframe_formatter()\n",
        "#data = pd.DataFrame(rows) \n",
        "#data\n"
      ],
      "metadata": {
        "id": "sPr5yVxJz4Jj"
      },
      "execution_count": null,
      "outputs": []
    }
  ]
}
